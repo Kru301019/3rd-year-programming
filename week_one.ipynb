{
  "nbformat": 4,
  "nbformat_minor": 0,
  "metadata": {
    "colab": {
      "provenance": [],
      "authorship_tag": "ABX9TyPuKTHx+FgUsHgdNfnufZjq",
      "include_colab_link": true
    },
    "kernelspec": {
      "name": "python3",
      "display_name": "Python 3"
    },
    "language_info": {
      "name": "python"
    }
  },
  "cells": [
    {
      "cell_type": "markdown",
      "metadata": {
        "id": "view-in-github",
        "colab_type": "text"
      },
      "source": [
        "<a href=\"https://colab.research.google.com/github/Kru301019/3rd-year-programming/blob/main/week_one.ipynb\" target=\"_parent\"><img src=\"https://colab.research.google.com/assets/colab-badge.svg\" alt=\"Open In Colab\"/></a>"
      ]
    },
    {
      "cell_type": "code",
      "execution_count": null,
      "metadata": {
        "id": "yt-PecLbC_Qn"
      },
      "outputs": [],
      "source": [
        "# prompt: import pytorch\n",
        "\n",
        "import torch\n",
        "import numpy as np\n"
      ]
    },
    {
      "cell_type": "code",
      "source": [
        "input_data = np.array([2,3])"
      ],
      "metadata": {
        "id": "6NKTdZekEscr"
      },
      "execution_count": null,
      "outputs": []
    },
    {
      "cell_type": "code",
      "source": [
        "weights = {\n",
        "    'node_0': np.array([2,4]),\n",
        "    'node_1': np.array([4,-5]),\n",
        "    'output': np.array([2,7])\n",
        "}"
      ],
      "metadata": {
        "id": "RTpm36-GFNB7"
      },
      "execution_count": null,
      "outputs": []
    },
    {
      "cell_type": "code",
      "source": [
        "node_0_value = (input_data * weights['node_0']).sum()\n",
        "node_0_value"
      ],
      "metadata": {
        "colab": {
          "base_uri": "https://localhost:8080/"
        },
        "id": "3uCEPAcAFuxP",
        "outputId": "26aea76c-ef0d-49a8-a136-5e8802b42f8e"
      },
      "execution_count": null,
      "outputs": [
        {
          "output_type": "execute_result",
          "data": {
            "text/plain": [
              "16"
            ]
          },
          "metadata": {},
          "execution_count": 26
        }
      ]
    },
    {
      "cell_type": "code",
      "source": [
        "node_1_value = (input_data * weights['node_1']).sum()\n",
        "node_1_value"
      ],
      "metadata": {
        "colab": {
          "base_uri": "https://localhost:8080/"
        },
        "id": "serWg3c8H1gH",
        "outputId": "cea13650-a3d1-4491-e816-653429e99625"
      },
      "execution_count": null,
      "outputs": [
        {
          "output_type": "execute_result",
          "data": {
            "text/plain": [
              "-7"
            ]
          },
          "metadata": {},
          "execution_count": 27
        }
      ]
    },
    {
      "cell_type": "code",
      "source": [
        "Hidden_layer_values = np.array([node_0_value, node_1_value])\n",
        "Hidden_layer_values"
      ],
      "metadata": {
        "colab": {
          "base_uri": "https://localhost:8080/"
        },
        "id": "uPKKVtg0GVMI",
        "outputId": "e660baea-cff3-4d5d-8bd2-038e339be2d7"
      },
      "execution_count": null,
      "outputs": [
        {
          "output_type": "execute_result",
          "data": {
            "text/plain": [
              "array([16, -7])"
            ]
          },
          "metadata": {},
          "execution_count": 28
        }
      ]
    },
    {
      "cell_type": "code",
      "source": [
        "output = (Hidden_layer_values * weights['output']).sum()\n",
        "output"
      ],
      "metadata": {
        "colab": {
          "base_uri": "https://localhost:8080/"
        },
        "id": "khtEeIiUIJxO",
        "outputId": "09954b9e-cbc6-4a98-a7d3-bcbb5d4fc571"
      },
      "execution_count": null,
      "outputs": [
        {
          "output_type": "execute_result",
          "data": {
            "text/plain": [
              "-17"
            ]
          },
          "metadata": {},
          "execution_count": 32
        }
      ]
    }
  ]
}